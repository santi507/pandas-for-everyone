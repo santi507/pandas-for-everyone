{
 "cells": [
  {
   "cell_type": "markdown",
   "metadata": {},
   "source": [
    "# 1. Pandas DataFrame Basics"
   ]
  },
  {
   "cell_type": "markdown",
   "metadata": {},
   "source": [
    "## Load Your First Data Set"
   ]
  },
  {
   "cell_type": "code",
   "execution_count": 4,
   "metadata": {},
   "outputs": [],
   "source": [
    "import pandas as pd\n",
    "df = pd.read_csv('./data/gapminder.tsv', sep='\\t')"
   ]
  },
  {
   "cell_type": "code",
   "execution_count": 5,
   "metadata": {},
   "outputs": [
    {
     "name": "stdout",
     "output_type": "stream",
     "text": [
      "<class 'pandas.core.frame.DataFrame'>\n"
     ]
    }
   ],
   "source": [
    "print(type(df))"
   ]
  },
  {
   "cell_type": "code",
   "execution_count": 6,
   "metadata": {},
   "outputs": [
    {
     "name": "stdout",
     "output_type": "stream",
     "text": [
      "(1704, 6)\n"
     ]
    }
   ],
   "source": [
    "# get the number of rows and columns\n",
    "print(df.shape)"
   ]
  },
  {
   "cell_type": "code",
   "execution_count": 9,
   "metadata": {},
   "outputs": [
    {
     "name": "stdout",
     "output_type": "stream",
     "text": [
      "Index(['country', 'continent', 'year', 'lifeExp', 'pop', 'gdpPercap'], dtype='object')\n"
     ]
    }
   ],
   "source": [
    "# get the column names\n",
    "print(df.columns)"
   ]
  },
  {
   "cell_type": "code",
   "execution_count": 10,
   "metadata": {},
   "outputs": [
    {
     "name": "stdout",
     "output_type": "stream",
     "text": [
      "country       object\n",
      "continent     object\n",
      "year           int64\n",
      "lifeExp      float64\n",
      "pop            int64\n",
      "gdpPercap    float64\n",
      "dtype: object\n"
     ]
    }
   ],
   "source": [
    "# get the dtypes of each column\n",
    "print(df.dtypes)"
   ]
  },
  {
   "cell_type": "code",
   "execution_count": 11,
   "metadata": {},
   "outputs": [
    {
     "name": "stdout",
     "output_type": "stream",
     "text": [
      "<class 'pandas.core.frame.DataFrame'>\n",
      "RangeIndex: 1704 entries, 0 to 1703\n",
      "Data columns (total 6 columns):\n",
      " #   Column     Non-Null Count  Dtype  \n",
      "---  ------     --------------  -----  \n",
      " 0   country    1704 non-null   object \n",
      " 1   continent  1704 non-null   object \n",
      " 2   year       1704 non-null   int64  \n",
      " 3   lifeExp    1704 non-null   float64\n",
      " 4   pop        1704 non-null   int64  \n",
      " 5   gdpPercap  1704 non-null   float64\n",
      "dtypes: float64(2), int64(2), object(2)\n",
      "memory usage: 80.0+ KB\n",
      "None\n"
     ]
    }
   ],
   "source": [
    "# get more information about our data\n",
    "print(df.info())"
   ]
  },
  {
   "cell_type": "markdown",
   "metadata": {},
   "source": [
    "## Look at Columns, Rows, and Cells"
   ]
  },
  {
   "cell_type": "code",
   "execution_count": 12,
   "metadata": {},
   "outputs": [
    {
     "name": "stdout",
     "output_type": "stream",
     "text": [
      "       country continent  year  lifeExp       pop   gdpPercap\n",
      "0  Afghanistan      Asia  1952   28.801   8425333  779.445314\n",
      "1  Afghanistan      Asia  1957   30.332   9240934  820.853030\n",
      "2  Afghanistan      Asia  1962   31.997  10267083  853.100710\n",
      "3  Afghanistan      Asia  1967   34.020  11537966  836.197138\n",
      "4  Afghanistan      Asia  1972   36.088  13079460  739.981106\n"
     ]
    }
   ],
   "source": [
    "# show the first 5 observations\n",
    "print(df.head())"
   ]
  },
  {
   "cell_type": "markdown",
   "metadata": {},
   "source": [
    "### Select and Subset Columns by Name"
   ]
  },
  {
   "cell_type": "code",
   "execution_count": 13,
   "metadata": {},
   "outputs": [],
   "source": [
    "# just get the country column and save it to its own variable\n",
    "country_df = df['country']"
   ]
  },
  {
   "cell_type": "code",
   "execution_count": 14,
   "metadata": {},
   "outputs": [
    {
     "name": "stdout",
     "output_type": "stream",
     "text": [
      "0    Afghanistan\n",
      "1    Afghanistan\n",
      "2    Afghanistan\n",
      "3    Afghanistan\n",
      "4    Afghanistan\n",
      "Name: country, dtype: object\n"
     ]
    }
   ],
   "source": [
    "# show the first 5 observations\n",
    "print(country_df.head())"
   ]
  },
  {
   "cell_type": "code",
   "execution_count": 15,
   "metadata": {},
   "outputs": [
    {
     "name": "stdout",
     "output_type": "stream",
     "text": [
      "1699    Zimbabwe\n",
      "1700    Zimbabwe\n",
      "1701    Zimbabwe\n",
      "1702    Zimbabwe\n",
      "1703    Zimbabwe\n",
      "Name: country, dtype: object\n"
     ]
    }
   ],
   "source": [
    "# show the last 5 observations\n",
    "print(country_df.tail())"
   ]
  },
  {
   "cell_type": "code",
   "execution_count": 16,
   "metadata": {},
   "outputs": [
    {
     "name": "stdout",
     "output_type": "stream",
     "text": [
      "          country continent  year\n",
      "0     Afghanistan      Asia  1952\n",
      "1     Afghanistan      Asia  1957\n",
      "2     Afghanistan      Asia  1962\n",
      "3     Afghanistan      Asia  1967\n",
      "4     Afghanistan      Asia  1972\n",
      "...           ...       ...   ...\n",
      "1699     Zimbabwe    Africa  1987\n",
      "1700     Zimbabwe    Africa  1992\n",
      "1701     Zimbabwe    Africa  1997\n",
      "1702     Zimbabwe    Africa  2002\n",
      "1703     Zimbabwe    Africa  2007\n",
      "\n",
      "[1704 rows x 3 columns]\n"
     ]
    }
   ],
   "source": [
    "# Looking at country, continent, and year\n",
    "subset = df[['country', 'continent', 'year']]\n",
    "print(subset)"
   ]
  },
  {
   "cell_type": "markdown",
   "metadata": {},
   "source": [
    "Single Value Returns DataFrame or Series"
   ]
  },
  {
   "cell_type": "code",
   "execution_count": 18,
   "metadata": {},
   "outputs": [
    {
     "name": "stdout",
     "output_type": "stream",
     "text": [
      "<class 'pandas.core.series.Series'>\n"
     ]
    }
   ],
   "source": [
    "country_df = df['country']\n",
    "print(type(country_df))"
   ]
  },
  {
   "cell_type": "code",
   "execution_count": 20,
   "metadata": {},
   "outputs": [
    {
     "name": "stdout",
     "output_type": "stream",
     "text": [
      "<class 'pandas.core.frame.DataFrame'>\n"
     ]
    }
   ],
   "source": [
    "country_df_list = df[['country']] # note the double square brackets\n",
    "print(type(country_df_list))"
   ]
  },
  {
   "cell_type": "markdown",
   "metadata": {},
   "source": [
    "Using Dot Notation to Pull a Column of Values"
   ]
  },
  {
   "cell_type": "code",
   "execution_count": 21,
   "metadata": {},
   "outputs": [
    {
     "name": "stdout",
     "output_type": "stream",
     "text": [
      "0       Afghanistan\n",
      "1       Afghanistan\n",
      "2       Afghanistan\n",
      "3       Afghanistan\n",
      "4       Afghanistan\n",
      "           ...     \n",
      "1699       Zimbabwe\n",
      "1700       Zimbabwe\n",
      "1701       Zimbabwe\n",
      "1702       Zimbabwe\n",
      "1703       Zimbabwe\n",
      "Name: country, Length: 1704, dtype: object\n"
     ]
    }
   ],
   "source": [
    "# using square bracket notation\n",
    "print(df['country'])"
   ]
  },
  {
   "cell_type": "code",
   "execution_count": 22,
   "metadata": {},
   "outputs": [
    {
     "name": "stdout",
     "output_type": "stream",
     "text": [
      "0       Afghanistan\n",
      "1       Afghanistan\n",
      "2       Afghanistan\n",
      "3       Afghanistan\n",
      "4       Afghanistan\n",
      "           ...     \n",
      "1699       Zimbabwe\n",
      "1700       Zimbabwe\n",
      "1701       Zimbabwe\n",
      "1702       Zimbabwe\n",
      "1703       Zimbabwe\n",
      "Name: country, Length: 1704, dtype: object\n"
     ]
    }
   ],
   "source": [
    "# using dot notation\n",
    "print(df.country)"
   ]
  },
  {
   "cell_type": "markdown",
   "metadata": {},
   "source": [
    "### Subset Rows"
   ]
  },
  {
   "cell_type": "markdown",
   "metadata": {},
   "source": [
    "Subset Rows by index Label - _.loc[]_"
   ]
  },
  {
   "cell_type": "code",
   "execution_count": 23,
   "metadata": {},
   "outputs": [
    {
     "name": "stdout",
     "output_type": "stream",
     "text": [
      "country      Afghanistan\n",
      "continent           Asia\n",
      "year                1952\n",
      "lifeExp           28.801\n",
      "pop              8425333\n",
      "gdpPercap     779.445314\n",
      "Name: 0, dtype: object\n"
     ]
    }
   ],
   "source": [
    "# get the first row\n",
    "# python counts from 0\n",
    "print(df.loc[0])"
   ]
  },
  {
   "cell_type": "code",
   "execution_count": 24,
   "metadata": {},
   "outputs": [
    {
     "name": "stdout",
     "output_type": "stream",
     "text": [
      "country      Bangladesh\n",
      "continent          Asia\n",
      "year               1967\n",
      "lifeExp          43.453\n",
      "pop            62821884\n",
      "gdpPercap    721.186086\n",
      "Name: 99, dtype: object\n"
     ]
    }
   ],
   "source": [
    "# get the 100th row\n",
    "# python counts from 0\n",
    "print(df.loc[99])"
   ]
  },
  {
   "cell_type": "code",
   "execution_count": 27,
   "metadata": {},
   "outputs": [],
   "source": [
    "# get the last row\n",
    "# this will cause an error\n",
    "# print(df.loc[-1])"
   ]
  },
  {
   "cell_type": "code",
   "execution_count": 28,
   "metadata": {},
   "outputs": [
    {
     "name": "stdout",
     "output_type": "stream",
     "text": [
      "country        Zimbabwe\n",
      "continent        Africa\n",
      "year               2007\n",
      "lifeExp          43.487\n",
      "pop            12311143\n",
      "gdpPercap    469.709298\n",
      "Name: 1703, dtype: object\n"
     ]
    }
   ],
   "source": [
    "# get the last row (correctly)\n",
    "\n",
    "# use the first value from shape to get the number of rows\n",
    "number_of_rows = df.shape[0]\n",
    "\n",
    "# subtract 1 from the value since we want the last index value\n",
    "last_row_index = number_of_rows - 1\n",
    "\n",
    "# finally do the subset using the index of the last row\n",
    "print(df.loc[last_row_index])"
   ]
  },
  {
   "cell_type": "code",
   "execution_count": 29,
   "metadata": {},
   "outputs": [
    {
     "name": "stdout",
     "output_type": "stream",
     "text": [
      "       country continent  year  lifeExp       pop   gdpPercap\n",
      "1703  Zimbabwe    Africa  2007   43.487  12311143  469.709298\n"
     ]
    }
   ],
   "source": [
    "# there are many ways of doing what you want\n",
    "print(df.tail(n=1))"
   ]
  },
  {
   "cell_type": "code",
   "execution_count": 30,
   "metadata": {},
   "outputs": [
    {
     "name": "stdout",
     "output_type": "stream",
     "text": [
      "<class 'pandas.core.series.Series'>\n",
      "<class 'pandas.core.frame.DataFrame'>\n"
     ]
    }
   ],
   "source": [
    "# get the last row of data in different ways\n",
    "subset_loc = df.loc[0]\n",
    "subset_head = df.head(n=1)\n",
    "\n",
    "# type using loc of 1 row\n",
    "print(type(subset_loc))\n",
    "\n",
    "# type using head of 1 row\n",
    "print(type(subset_head))"
   ]
  },
  {
   "cell_type": "markdown",
   "metadata": {},
   "source": [
    "Subsetting Multiple Rows"
   ]
  },
  {
   "cell_type": "code",
   "execution_count": 32,
   "metadata": {},
   "outputs": [
    {
     "name": "stdout",
     "output_type": "stream",
     "text": [
      "         country continent  year  lifeExp       pop    gdpPercap\n",
      "0    Afghanistan      Asia  1952   28.801   8425333   779.445314\n",
      "99    Bangladesh      Asia  1967   43.453  62821884   721.186086\n",
      "999     Mongolia      Asia  1967   51.253   1149500  1226.041130\n"
     ]
    }
   ],
   "source": [
    "print(df.loc[[0, 99, 999]])"
   ]
  },
  {
   "cell_type": "markdown",
   "metadata": {},
   "source": [
    "### Subset Rows by Row Number"
   ]
  },
  {
   "cell_type": "code",
   "execution_count": 33,
   "metadata": {},
   "outputs": [
    {
     "name": "stdout",
     "output_type": "stream",
     "text": [
      "country      Afghanistan\n",
      "continent           Asia\n",
      "year                1957\n",
      "lifeExp           30.332\n",
      "pop              9240934\n",
      "gdpPercap      820.85303\n",
      "Name: 1, dtype: object\n"
     ]
    }
   ],
   "source": [
    "# get the 2nd row\n",
    "print(df.iloc[1])"
   ]
  },
  {
   "cell_type": "code",
   "execution_count": 34,
   "metadata": {},
   "outputs": [
    {
     "name": "stdout",
     "output_type": "stream",
     "text": [
      "country      Bangladesh\n",
      "continent          Asia\n",
      "year               1967\n",
      "lifeExp          43.453\n",
      "pop            62821884\n",
      "gdpPercap    721.186086\n",
      "Name: 99, dtype: object\n"
     ]
    }
   ],
   "source": [
    "# get the 100th row\n",
    "print(df.iloc[99])"
   ]
  },
  {
   "cell_type": "code",
   "execution_count": 35,
   "metadata": {},
   "outputs": [
    {
     "name": "stdout",
     "output_type": "stream",
     "text": [
      "country        Zimbabwe\n",
      "continent        Africa\n",
      "year               2007\n",
      "lifeExp          43.487\n",
      "pop            12311143\n",
      "gdpPercap    469.709298\n",
      "Name: 1703, dtype: object\n"
     ]
    }
   ],
   "source": [
    "# using -1 to get the last row\n",
    "print(df.iloc[-1])"
   ]
  },
  {
   "cell_type": "code",
   "execution_count": 36,
   "metadata": {},
   "outputs": [
    {
     "name": "stdout",
     "output_type": "stream",
     "text": [
      "         country continent  year  lifeExp       pop    gdpPercap\n",
      "0    Afghanistan      Asia  1952   28.801   8425333   779.445314\n",
      "99    Bangladesh      Asia  1967   43.453  62821884   721.186086\n",
      "999     Mongolia      Asia  1967   51.253   1149500  1226.041130\n"
     ]
    }
   ],
   "source": [
    "# get the first, 100th, and 1000th row\n",
    "print(df.iloc[[0, 99, 999]])"
   ]
  },
  {
   "cell_type": "markdown",
   "metadata": {},
   "source": [
    "### Mix It Up\n",
    "_df.loc[[rows], [columns]]_ or _df.iloc[[rows], [columns]]_"
   ]
  },
  {
   "cell_type": "markdown",
   "metadata": {},
   "source": [
    "Selecting Columns"
   ]
  },
  {
   "cell_type": "code",
   "execution_count": 37,
   "metadata": {},
   "outputs": [
    {
     "name": "stdout",
     "output_type": "stream",
     "text": [
      "      year       pop\n",
      "0     1952   8425333\n",
      "1     1957   9240934\n",
      "2     1962  10267083\n",
      "3     1967  11537966\n",
      "4     1972  13079460\n",
      "...    ...       ...\n",
      "1699  1987   9216418\n",
      "1700  1992  10704340\n",
      "1701  1997  11404948\n",
      "1702  2002  11926563\n",
      "1703  2007  12311143\n",
      "\n",
      "[1704 rows x 2 columns]\n"
     ]
    }
   ],
   "source": [
    "# subset columns with loc\n",
    "# note the position of the colon\n",
    "# it is used to select all rows\n",
    "subset = df.loc[:, ['year', 'pop']]\n",
    "print(subset)"
   ]
  },
  {
   "cell_type": "code",
   "execution_count": 38,
   "metadata": {},
   "outputs": [
    {
     "name": "stdout",
     "output_type": "stream",
     "text": [
      "      year       pop   gdpPercap\n",
      "0     1952   8425333  779.445314\n",
      "1     1957   9240934  820.853030\n",
      "2     1962  10267083  853.100710\n",
      "3     1967  11537966  836.197138\n",
      "4     1972  13079460  739.981106\n",
      "...    ...       ...         ...\n",
      "1699  1987   9216418  706.157306\n",
      "1700  1992  10704340  693.420786\n",
      "1701  1997  11404948  792.449960\n",
      "1702  2002  11926563  672.038623\n",
      "1703  2007  12311143  469.709298\n",
      "\n",
      "[1704 rows x 3 columns]\n"
     ]
    }
   ],
   "source": [
    "# subset columns with iloc\n",
    "# iloc will allow us to use integers\n",
    "# -1 will select the last column\n",
    "subset = df.iloc[:, [2, 4, -1]]\n",
    "print(subset)"
   ]
  },
  {
   "cell_type": "markdown",
   "metadata": {},
   "source": [
    "Subsetting with _range()_"
   ]
  },
  {
   "cell_type": "code",
   "execution_count": 39,
   "metadata": {},
   "outputs": [
    {
     "name": "stdout",
     "output_type": "stream",
     "text": [
      "[0, 1, 2, 3, 4]\n"
     ]
    }
   ],
   "source": [
    "# create a range of integers from 0 - 4 inclusive\n",
    "small_range = list(range(5))\n",
    "print(small_range)"
   ]
  },
  {
   "cell_type": "code",
   "execution_count": 40,
   "metadata": {},
   "outputs": [
    {
     "name": "stdout",
     "output_type": "stream",
     "text": [
      "          country continent  year  lifeExp       pop\n",
      "0     Afghanistan      Asia  1952   28.801   8425333\n",
      "1     Afghanistan      Asia  1957   30.332   9240934\n",
      "2     Afghanistan      Asia  1962   31.997  10267083\n",
      "3     Afghanistan      Asia  1967   34.020  11537966\n",
      "4     Afghanistan      Asia  1972   36.088  13079460\n",
      "...           ...       ...   ...      ...       ...\n",
      "1699     Zimbabwe    Africa  1987   62.351   9216418\n",
      "1700     Zimbabwe    Africa  1992   60.377  10704340\n",
      "1701     Zimbabwe    Africa  1997   46.809  11404948\n",
      "1702     Zimbabwe    Africa  2002   39.989  11926563\n",
      "1703     Zimbabwe    Africa  2007   43.487  12311143\n",
      "\n",
      "[1704 rows x 5 columns]\n"
     ]
    }
   ],
   "source": [
    "# subset the dataframe with the range\n",
    "subset = df.iloc[:, small_range]\n",
    "print(subset)"
   ]
  },
  {
   "cell_type": "code",
   "execution_count": 45,
   "metadata": {},
   "outputs": [
    {
     "name": "stdout",
     "output_type": "stream",
     "text": [
      "[3, 4, 5]\n"
     ]
    }
   ],
   "source": [
    "# create a range from 3 - 5 inclusive\n",
    "small_range = list(range(3, 6))\n",
    "print(small_range)"
   ]
  },
  {
   "cell_type": "code",
   "execution_count": 46,
   "metadata": {},
   "outputs": [
    {
     "name": "stdout",
     "output_type": "stream",
     "text": [
      "      lifeExp       pop   gdpPercap\n",
      "0      28.801   8425333  779.445314\n",
      "1      30.332   9240934  820.853030\n",
      "2      31.997  10267083  853.100710\n",
      "3      34.020  11537966  836.197138\n",
      "4      36.088  13079460  739.981106\n",
      "...       ...       ...         ...\n",
      "1699   62.351   9216418  706.157306\n",
      "1700   60.377  10704340  693.420786\n",
      "1701   46.809  11404948  792.449960\n",
      "1702   39.989  11926563  672.038623\n",
      "1703   43.487  12311143  469.709298\n",
      "\n",
      "[1704 rows x 3 columns]\n"
     ]
    }
   ],
   "source": [
    "subset = df.iloc[:, small_range]\n",
    "print(subset)"
   ]
  },
  {
   "cell_type": "code",
   "execution_count": 47,
   "metadata": {},
   "outputs": [
    {
     "name": "stdout",
     "output_type": "stream",
     "text": [
      "          country  year       pop\n",
      "0     Afghanistan  1952   8425333\n",
      "1     Afghanistan  1957   9240934\n",
      "2     Afghanistan  1962  10267083\n",
      "3     Afghanistan  1967  11537966\n",
      "4     Afghanistan  1972  13079460\n",
      "...           ...   ...       ...\n",
      "1699     Zimbabwe  1987   9216418\n",
      "1700     Zimbabwe  1992  10704340\n",
      "1701     Zimbabwe  1997  11404948\n",
      "1702     Zimbabwe  2002  11926563\n",
      "1703     Zimbabwe  2007  12311143\n",
      "\n",
      "[1704 rows x 3 columns]\n"
     ]
    }
   ],
   "source": [
    "# create a range from 0 - 5 inclusive, every other integer\n",
    "small_range = list(range(0, 6, 2))\n",
    "subset = df.iloc[:, small_range]\n",
    "print(subset)"
   ]
  },
  {
   "cell_type": "markdown",
   "metadata": {},
   "source": [
    "Subsetting with Slicing _:_"
   ]
  },
  {
   "cell_type": "code",
   "execution_count": 48,
   "metadata": {},
   "outputs": [
    {
     "name": "stdout",
     "output_type": "stream",
     "text": [
      "          country continent  year\n",
      "0     Afghanistan      Asia  1952\n",
      "1     Afghanistan      Asia  1957\n",
      "2     Afghanistan      Asia  1962\n",
      "3     Afghanistan      Asia  1967\n",
      "4     Afghanistan      Asia  1972\n",
      "...           ...       ...   ...\n",
      "1699     Zimbabwe    Africa  1987\n",
      "1700     Zimbabwe    Africa  1992\n",
      "1701     Zimbabwe    Africa  1997\n",
      "1702     Zimbabwe    Africa  2002\n",
      "1703     Zimbabwe    Africa  2007\n",
      "\n",
      "[1704 rows x 3 columns]\n"
     ]
    }
   ],
   "source": [
    "# slice the first 3 columns\n",
    "subset = df.iloc[:, :3]\n",
    "print(subset)"
   ]
  },
  {
   "cell_type": "code",
   "execution_count": 49,
   "metadata": {},
   "outputs": [
    {
     "name": "stdout",
     "output_type": "stream",
     "text": [
      "      lifeExp       pop   gdpPercap\n",
      "0      28.801   8425333  779.445314\n",
      "1      30.332   9240934  820.853030\n",
      "2      31.997  10267083  853.100710\n",
      "3      34.020  11537966  836.197138\n",
      "4      36.088  13079460  739.981106\n",
      "...       ...       ...         ...\n",
      "1699   62.351   9216418  706.157306\n",
      "1700   60.377  10704340  693.420786\n",
      "1701   46.809  11404948  792.449960\n",
      "1702   39.989  11926563  672.038623\n",
      "1703   43.487  12311143  469.709298\n",
      "\n",
      "[1704 rows x 3 columns]\n"
     ]
    }
   ],
   "source": [
    "# slice columns 3 to 5 inclusive\n",
    "subset = df.iloc[:, 3:6]\n",
    "print(subset)"
   ]
  },
  {
   "cell_type": "code",
   "execution_count": 50,
   "metadata": {},
   "outputs": [
    {
     "name": "stdout",
     "output_type": "stream",
     "text": [
      "          country  year       pop\n",
      "0     Afghanistan  1952   8425333\n",
      "1     Afghanistan  1957   9240934\n",
      "2     Afghanistan  1962  10267083\n",
      "3     Afghanistan  1967  11537966\n",
      "4     Afghanistan  1972  13079460\n",
      "...           ...   ...       ...\n",
      "1699     Zimbabwe  1987   9216418\n",
      "1700     Zimbabwe  1992  10704340\n",
      "1701     Zimbabwe  1997  11404948\n",
      "1702     Zimbabwe  2002  11926563\n",
      "1703     Zimbabwe  2007  12311143\n",
      "\n",
      "[1704 rows x 3 columns]\n"
     ]
    }
   ],
   "source": [
    "# slice every other columns\n",
    "subset = df.iloc[:, 0:6:2]\n",
    "print(subset)"
   ]
  },
  {
   "cell_type": "markdown",
   "metadata": {},
   "source": [
    "### Subsetting Rows and Columns"
   ]
  },
  {
   "cell_type": "code",
   "execution_count": 51,
   "metadata": {},
   "outputs": [
    {
     "name": "stdout",
     "output_type": "stream",
     "text": [
      "Angola\n"
     ]
    }
   ],
   "source": [
    "# using loc\n",
    "print(df.loc[42, 'country'])"
   ]
  },
  {
   "cell_type": "code",
   "execution_count": 52,
   "metadata": {},
   "outputs": [
    {
     "name": "stdout",
     "output_type": "stream",
     "text": [
      "Angola\n"
     ]
    }
   ],
   "source": [
    "# using iloc\n",
    "print(df.iloc[42, 0])"
   ]
  },
  {
   "cell_type": "markdown",
   "metadata": {},
   "source": [
    "Subsetting Multiple Rows and Columns"
   ]
  },
  {
   "cell_type": "code",
   "execution_count": 53,
   "metadata": {},
   "outputs": [
    {
     "name": "stdout",
     "output_type": "stream",
     "text": [
      "         country  lifeExp    gdpPercap\n",
      "0    Afghanistan   28.801   779.445314\n",
      "99    Bangladesh   43.453   721.186086\n",
      "999     Mongolia   51.253  1226.041130\n"
     ]
    }
   ],
   "source": [
    "# get the 1st, 100th, and 1000th rows\n",
    "# from the 1st, 4th, and 6th columns\n",
    "# note the columns we are hoping to get are:\n",
    "# country, lifeExp, and gdpPercap\n",
    "print(df.iloc[[0, 99, 999], [0, 3, 5]])"
   ]
  },
  {
   "cell_type": "code",
   "execution_count": 54,
   "metadata": {},
   "outputs": [
    {
     "name": "stdout",
     "output_type": "stream",
     "text": [
      "         country  lifeExp    gdpPercap\n",
      "0    Afghanistan   28.801   779.445314\n",
      "99    Bangladesh   43.453   721.186086\n",
      "999     Mongolia   51.253  1226.041130\n"
     ]
    }
   ],
   "source": [
    "# if we use the column names directly\n",
    "# it makes the code a bit easier to read\n",
    "# note now we have to use loc, instead of iloc\n",
    "print(df.loc[[0, 99, 999], ['country', 'lifeExp', 'gdpPercap']])"
   ]
  },
  {
   "cell_type": "markdown",
   "metadata": {},
   "source": [
    "## Grouped and Aggregated Calculations"
   ]
  },
  {
   "cell_type": "markdown",
   "metadata": {},
   "source": [
    "### Grouped Means"
   ]
  },
  {
   "cell_type": "code",
   "execution_count": 55,
   "metadata": {},
   "outputs": [
    {
     "name": "stdout",
     "output_type": "stream",
     "text": [
      "year\n",
      "1952    49.057620\n",
      "1957    51.507401\n",
      "1962    53.609249\n",
      "1967    55.678290\n",
      "1972    57.647386\n",
      "1977    59.570157\n",
      "1982    61.533197\n",
      "1987    63.212613\n",
      "1992    64.160338\n",
      "1997    65.014676\n",
      "2002    65.694923\n",
      "2007    67.007423\n",
      "Name: lifeExp, dtype: float64\n"
     ]
    }
   ],
   "source": [
    "# For each year in our data, what was the average life expectancy?\n",
    "# To answer this question, we need to:\n",
    "# 1. split our data into parts by year\n",
    "# 2. get the 'lifeExp' column\n",
    "# 3. calculate the mean\n",
    "print(df.groupby('year')['lifeExp'].mean())"
   ]
  },
  {
   "cell_type": "code",
   "execution_count": 56,
   "metadata": {},
   "outputs": [
    {
     "name": "stdout",
     "output_type": "stream",
     "text": [
      "<class 'pandas.core.groupby.generic.DataFrameGroupBy'>\n"
     ]
    }
   ],
   "source": [
    "# create grouped object by year\n",
    "grouped_year_df = df.groupby('year')\n",
    "print(type(grouped_year_df))"
   ]
  },
  {
   "cell_type": "code",
   "execution_count": 57,
   "metadata": {},
   "outputs": [
    {
     "name": "stdout",
     "output_type": "stream",
     "text": [
      "<class 'pandas.core.groupby.generic.SeriesGroupBy'>\n"
     ]
    }
   ],
   "source": [
    "grouped_year_df_lifeExp = grouped_year_df['lifeExp']\n",
    "print(type(grouped_year_df_lifeExp))"
   ]
  },
  {
   "cell_type": "code",
   "execution_count": 58,
   "metadata": {},
   "outputs": [
    {
     "name": "stdout",
     "output_type": "stream",
     "text": [
      "year\n",
      "1952    49.057620\n",
      "1957    51.507401\n",
      "1962    53.609249\n",
      "1967    55.678290\n",
      "1972    57.647386\n",
      "1977    59.570157\n",
      "1982    61.533197\n",
      "1987    63.212613\n",
      "1992    64.160338\n",
      "1997    65.014676\n",
      "2002    65.694923\n",
      "2007    67.007423\n",
      "Name: lifeExp, dtype: float64\n"
     ]
    }
   ],
   "source": [
    "mean_lifeExp_by_year = grouped_year_df_lifeExp.mean()\n",
    "print(mean_lifeExp_by_year)"
   ]
  },
  {
   "cell_type": "code",
   "execution_count": 59,
   "metadata": {},
   "outputs": [
    {
     "name": "stdout",
     "output_type": "stream",
     "text": [
      "                  lifeExp     gdpPercap\n",
      "year continent                         \n",
      "1952 Africa     39.135500   1252.572466\n",
      "     Americas   53.279840   4079.062552\n",
      "     Asia       46.314394   5195.484004\n",
      "     Europe     64.408500   5661.057435\n",
      "     Oceania    69.255000  10298.085650\n",
      "1957 Africa     41.266346   1385.236062\n",
      "     Americas   55.960280   4616.043733\n",
      "     Asia       49.318544   5787.732940\n",
      "     Europe     66.703067   6963.012816\n",
      "     Oceania    70.295000  11598.522455\n"
     ]
    }
   ],
   "source": [
    "# the backslash allows us to break up 1 long line of python code\n",
    "# into multiple lines\n",
    "# df.groupby(['year', 'continent'])[['lifeExp', 'gdpPercap']].mean()\n",
    "# is the same as\n",
    "multi_group_var = df\\\n",
    "    .groupby(['year', 'continent'])\\\n",
    "    [['lifeExp', 'gdpPercap']]\\\n",
    "    .mean()\n",
    "\n",
    "# look at the first 10 rows\n",
    "print(multi_group_var.head(10))"
   ]
  },
  {
   "cell_type": "code",
   "execution_count": 61,
   "metadata": {},
   "outputs": [
    {
     "name": "stdout",
     "output_type": "stream",
     "text": [
      "                  lifeExp     gdpPercap\n",
      "year continent                         \n",
      "1952 Africa     39.135500   1252.572466\n",
      "     Americas   53.279840   4079.062552\n",
      "     Asia       46.314394   5195.484004\n",
      "     Europe     64.408500   5661.057435\n",
      "     Oceania    69.255000  10298.085650\n"
     ]
    }
   ],
   "source": [
    "# we can also wrap the entire statement\n",
    "# around round parentheses\n",
    "# with each .method() on a new line\n",
    "# this is the preferred style for writing \"method chaining\"\n",
    "multi_group_var = (\n",
    "    df\n",
    "    .groupby(['year', 'continent'])\n",
    "    [['lifeExp', 'gdpPercap']]\n",
    "    .mean()\n",
    ")\n",
    "print(multi_group_var.head())"
   ]
  },
  {
   "cell_type": "code",
   "execution_count": 62,
   "metadata": {},
   "outputs": [
    {
     "name": "stdout",
     "output_type": "stream",
     "text": [
      "   year continent    lifeExp     gdpPercap\n",
      "0  1952    Africa  39.135500   1252.572466\n",
      "1  1952  Americas  53.279840   4079.062552\n",
      "2  1952      Asia  46.314394   5195.484004\n",
      "3  1952    Europe  64.408500   5661.057435\n",
      "4  1952   Oceania  69.255000  10298.085650\n"
     ]
    }
   ],
   "source": [
    "flat = multi_group_var.reset_index()\n",
    "print(flat.head())"
   ]
  },
  {
   "cell_type": "markdown",
   "metadata": {},
   "source": [
    "### Grouped Frequency Counts"
   ]
  },
  {
   "cell_type": "code",
   "execution_count": 63,
   "metadata": {},
   "outputs": [
    {
     "name": "stdout",
     "output_type": "stream",
     "text": [
      "continent\n",
      "Africa      52\n",
      "Americas    25\n",
      "Asia        33\n",
      "Europe      30\n",
      "Oceania      2\n",
      "Name: country, dtype: int64\n"
     ]
    }
   ],
   "source": [
    "# use the nunique (number unique)\n",
    "# to calculate the number of unique values in a series\n",
    "print(df.groupby('continent')['country'].nunique())"
   ]
  },
  {
   "cell_type": "markdown",
   "metadata": {},
   "source": [
    "## Basic Plot"
   ]
  },
  {
   "cell_type": "code",
   "execution_count": 65,
   "metadata": {},
   "outputs": [
    {
     "name": "stdout",
     "output_type": "stream",
     "text": [
      "year\n",
      "1952    49.057620\n",
      "1957    51.507401\n",
      "1962    53.609249\n",
      "1967    55.678290\n",
      "1972    57.647386\n",
      "Name: lifeExp, dtype: float64\n"
     ]
    }
   ],
   "source": [
    "global_yearly_life_expectancy = (\n",
    "    df\n",
    "    .groupby('year')\n",
    "    ['lifeExp']\n",
    "    .mean()\n",
    ")\n",
    "print(global_yearly_life_expectancy.head())"
   ]
  },
  {
   "cell_type": "code",
   "execution_count": 67,
   "metadata": {},
   "outputs": [],
   "source": [
    "# matplotlib is the default plotting library\n",
    "# we need to import first\n",
    "import matplotlib.pyplot as plt"
   ]
  },
  {
   "cell_type": "code",
   "execution_count": 69,
   "metadata": {},
   "outputs": [
    {
     "data": {
      "image/png": "[encoded data removed]",
      "text/plain": [
       "<Figure size 640x480 with 1 Axes>"
      ]
     },
     "metadata": {},
     "output_type": "display_data"
    }
   ],
   "source": [
    "# use the .plot() DataFrame method\n",
    "global_yearly_life_expectancy.plot()\n",
    "\n",
    "# show the plot\n",
    "plt.show()"
   ]
  },
  {
   "cell_type": "code",
   "execution_count": null,
   "metadata": {},
   "outputs": [],
   "source": []
  }
 ],
 "metadata": {
  "kernelspec": {
   "display_name": "venv",
   "language": "python",
   "name": "python3"
  },
  "language_info": {
   "codemirror_mode": {
    "name": "ipython",
    "version": 3
   },
   "file_extension": ".py",
   "mimetype": "text/x-python",
   "name": "python",
   "nbconvert_exporter": "python",
   "pygments_lexer": "ipython3",
   "version": "3.10.11"
  }
 },
 "nbformat": 4,
 "nbformat_minor": 2
}
